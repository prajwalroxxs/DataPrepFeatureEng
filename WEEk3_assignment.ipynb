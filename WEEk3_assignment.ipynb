{
  "nbformat": 4,
  "nbformat_minor": 0,
  "metadata": {
    "colab": {
      "provenance": []
    },
    "kernelspec": {
      "name": "python3",
      "display_name": "Python 3"
    },
    "language_info": {
      "name": "python"
    }
  },
  "cells": [
    {
      "cell_type": "markdown",
      "source": [
        "Prajwal Srivastava\n",
        "\n",
        "Week 3 Assignment"
      ],
      "metadata": {
        "id": "1tVN8B0oUu77"
      }
    },
    {
      "cell_type": "code",
      "execution_count": 2,
      "metadata": {
        "colab": {
          "base_uri": "https://localhost:8080/"
        },
        "id": "Bf7Gsn_4QFZz",
        "outputId": "7912249b-3ec3-463e-fa07-32c3d3a9b61b"
      },
      "outputs": [
        {
          "output_type": "stream",
          "name": "stdout",
          "text": [
            "Preprocessing complete!\n"
          ]
        }
      ],
      "source": [
        "import pandas as pd\n",
        "import numpy as np\n",
        "from sklearn.preprocessing import LabelEncoder\n",
        "\n",
        "df1 = pd.read_csv('/content/train.csv')\n",
        "df2 = pd.read_csv('/content/test.csv')\n",
        "\n",
        "y = df1['SalePrice']\n",
        "df1.drop('SalePrice', axis=1, inplace=True)\n",
        "\n",
        "data = pd.concat([df1, df2], sort=False)\n",
        "\n",
        "num = data.select_dtypes(include=['number']).columns\n",
        "for col in num:\n",
        "    data[col] = data[col].fillna(data[col].median())\n",
        "\n",
        "cat = data.select_dtypes(include=['object']).columns\n",
        "for col in cat:\n",
        "    data[col] = data[col].fillna(data[col].mode()[0])\n",
        "\n",
        "ord_cols = ['ExterQual', 'ExterCond', 'BsmtQual', 'BsmtCond',\n",
        "            'HeatingQC', 'KitchenQual', 'GarageQual', 'GarageCond',\n",
        "            'PoolQC', 'FireplaceQu']\n",
        "\n",
        "scale = {'Ex': 5, 'Gd': 4, 'TA': 3, 'Fa': 2, 'Po': 1, np.nan: 0}\n",
        "for col in ord_cols:\n",
        "    if col in data.columns:\n",
        "        data[col] = data[col].map(scale)\n",
        "\n",
        "data = pd.get_dummies(data)\n",
        "\n",
        "data['TotalSF'] = data['TotalBsmtSF'] + data['1stFlrSF'] + data['2ndFlrSF']\n",
        "\n",
        "X_tr = data[:len(df1)]\n",
        "X_te = data[len(df1):]\n",
        "y_tr = y\n",
        "\n",
        "X_tr.to_csv(\"X_train_processed.csv\", index=False)\n",
        "X_te.to_csv(\"X_test_processed.csv\", index=False)\n",
        "y_tr.to_csv(\"y_train.csv\", index=False)\n",
        "\n",
        "print(\"Preprocessing complete!\")\n"
      ]
    },
    {
      "cell_type": "code",
      "source": [
        "import pandas as pd\n",
        "from sklearn.linear_model import LinearRegression\n",
        "from sklearn.metrics import mean_squared_error\n",
        "from sklearn.model_selection import cross_val_score\n",
        "import numpy as np\n",
        "\n",
        "X = pd.read_csv(\"X_train_processed.csv\")\n",
        "T = pd.read_csv(\"X_test_processed.csv\")\n",
        "y = pd.read_csv(\"y_train.csv\")\n",
        "\n",
        "mdl = LinearRegression()\n",
        "mdl.fit(X, y)\n",
        "\n",
        "preds = mdl.predict(X)\n",
        "rmse = np.sqrt(mean_squared_error(y, preds))\n",
        "print(\"Training RMSE:\", rmse)\n",
        "\n",
        "scores = cross_val_score(mdl, X, y.values.ravel(), scoring=\"neg_root_mean_squared_error\", cv=10)\n",
        "cv_rmse = -scores.mean()\n",
        "print(\"Cross-Validation RMSE (10-fold):\", cv_rmse)\n",
        "\n",
        "test_out = mdl.predict(T)\n",
        "\n",
        "print(\"There are\", len(test_out), \"house prices predicted.\")\n",
        "idx = int(input(f\"Enter the index (0 to {len(test_out)-1}) of the house you want to see the predicted price for: \"))\n",
        "if 0 <= idx < len(test_out):\n",
        "    print(f\"Predicted price of house at index {idx} is: {test_out[idx]}\")\n",
        "else:\n",
        "    print(\"Invalid index.\")\n"
      ],
      "metadata": {
        "colab": {
          "base_uri": "https://localhost:8080/"
        },
        "id": "yBIWu9xQUjyi",
        "outputId": "8b252b1c-482f-4ee9-d917-db5fe0c1e203"
      },
      "execution_count": 3,
      "outputs": [
        {
          "output_type": "stream",
          "name": "stdout",
          "text": [
            "Training RMSE: 22180.89274733687\n",
            "Cross-Validation RMSE (10-fold): 33643.94463403646\n",
            "There are 1459 house prices predicted.\n",
            "Enter the index (0 to 1458) of the house you want to see the predicted price for: 2\n",
            "Predicted price of house at index 2 is: [181186.93716794]\n"
          ]
        }
      ]
    }
  ]
}